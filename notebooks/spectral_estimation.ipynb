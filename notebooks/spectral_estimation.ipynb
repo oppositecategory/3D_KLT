{
 "cells": [
  {
   "cell_type": "code",
   "execution_count": 1,
   "metadata": {},
   "outputs": [],
   "source": [
    "import numpy as np \n",
    "import matplotlib.pyplot as plt \n",
    "\n",
    "import jax \n",
    "import jax.numpy as jnp "
   ]
  },
  {
   "cell_type": "code",
   "execution_count": 45,
   "metadata": {},
   "outputs": [],
   "source": [
    "n =  10\n",
    "max_d  = 9\n",
    "patch = np.random.normal(size=(10,10,10))"
   ]
  },
  {
   "cell_type": "code",
   "execution_count": 46,
   "metadata": {},
   "outputs": [
    {
     "data": {
      "text/plain": [
       "(10, 10, 10)"
      ]
     },
     "execution_count": 46,
     "metadata": {},
     "output_type": "execute_result"
    }
   ],
   "source": [
    "patch.shape"
   ]
  },
  {
   "cell_type": "code",
   "execution_count": 49,
   "metadata": {},
   "outputs": [
    {
     "data": {
      "text/plain": [
       "(array([0, 0, 0, 0, 0, 0, 0, 0, 0, 1, 1, 1, 1, 1, 1, 1, 1, 2, 2, 2, 2, 2,\n",
       "        2]),\n",
       " array([0, 0, 0, 1, 1, 1, 2, 2, 2, 0, 0, 0, 1, 1, 1, 2, 2, 0, 0, 0, 1, 1,\n",
       "        2]),\n",
       " array([0, 1, 2, 0, 1, 2, 0, 1, 2, 0, 1, 2, 0, 1, 2, 0, 1, 0, 1, 2, 0, 1,\n",
       "        0]))"
      ]
     },
     "execution_count": 49,
     "metadata": {},
     "output_type": "execute_result"
    }
   ],
   "source": [
    "ids = np.array([[[i**2 + j ** 2 + k**2 for i in range(n)] for j in range(n)] for k in range(n)])\n",
    "ids = np.where(ids<max_d)\n",
    "ids"
   ]
  },
  {
   "cell_type": "code",
   "execution_count": 8,
   "metadata": {},
   "outputs": [
    {
     "data": {
      "text/plain": [
       "array([ True,  True,  True,  True,  True,  True,  True,  True,  True,\n",
       "        True,  True,  True,  True,  True,  True,  True,  True,  True,\n",
       "        True,  True,  True,  True,  True,  True,  True,  True,  True,\n",
       "        True,  True,  True,  True,  True,  True,  True,  True,  True,\n",
       "        True,  True,  True,  True,  True,  True,  True,  True,  True,\n",
       "        True,  True,  True,  True,  True,  True,  True,  True,  True,\n",
       "        True,  True,  True,  True,  True,  True,  True,  True,  True,\n",
       "        True,  True,  True,  True,  True,  True,  True,  True,  True,\n",
       "        True])"
      ]
     },
     "execution_count": 8,
     "metadata": {},
     "output_type": "execute_result"
    }
   ],
   "source": [
    "i = np.array([[x for x in range(max_d + 1)] for x in range(max_d + 1)])\n",
    "dists = i ** 2 + i.transpose() ** 2\n",
    "dsquare = dists[np.where(dists <= max_d ** 2)]\n",
    "x = dsquare ** 0.5\n",
    "\n",
    "dists = np.array([[i**2 + j ** 2  for i in range(max_d+1)] for j in range(max_d+1)])\n",
    "dsquare = dists[np.where(dists <= max_d ** 2)]\n",
    "x1 = dsquare ** 0.5\n",
    "x1 == x"
   ]
  },
  {
   "cell_type": "code",
   "execution_count": 69,
   "metadata": {},
   "outputs": [],
   "source": [
    "def distmap(max_d, dsquare, dists_shape):\n",
    "    dist_map = np.zeros(dists_shape)\n",
    "    for i in range(max_d + 1):\n",
    "        for j in range(max_d + 1):\n",
    "            d = i ** 2 + j ** 2\n",
    "            if d <= max_d ** 2:\n",
    "                idx, _ = bsearch(dsquare, d - 1e-13, d + 1e-13)\n",
    "                dist_map[i, j] = idx\n",
    "    dist_map = dist_map.astype(np.int32) - 1\n",
    "    return dist_map\n",
    "\n",
    "def bsearch(x, lower_bound, upper_bound):\n",
    "    if lower_bound > x[-1] or upper_bound < x[0] or upper_bound < lower_bound:\n",
    "        return None, None\n",
    "    lower_idx_a = 1\n",
    "    lower_idx_b = len(x)\n",
    "    upper_idx_a = 1\n",
    "    upper_idx_b = len(x)\n",
    "\n",
    "    while lower_idx_a + 1 < lower_idx_b or upper_idx_a + 1 < upper_idx_b:\n",
    "        lw = int(np.floor((lower_idx_a + lower_idx_b) / 2))\n",
    "        if x[lw - 1] >= lower_bound:\n",
    "            lower_idx_b = lw\n",
    "        else:\n",
    "            lower_idx_a = lw\n",
    "            if upper_idx_a < lw < upper_idx_b:\n",
    "                upper_idx_a = lw\n",
    "\n",
    "        up = int(np.ceil((upper_idx_a + upper_idx_b) / 2))\n",
    "        if x[up - 1] <= upper_bound:\n",
    "            upper_idx_a = up\n",
    "        else:\n",
    "            upper_idx_b = up\n",
    "            if lower_idx_a < up < lower_idx_b:\n",
    "                lower_idx_b = up\n",
    "\n",
    "    if x[lower_idx_a - 1] >= lower_bound:\n",
    "        lower_idx = lower_idx_a\n",
    "    else:\n",
    "        lower_idx = lower_idx_b\n",
    "    if x[upper_idx_b - 1] <= upper_bound:\n",
    "        upper_idx = upper_idx_b\n",
    "    else:\n",
    "        upper_idx = upper_idx_a\n",
    "\n",
    "    if upper_idx < lower_idx:\n",
    "        return None, None\n",
    "\n",
    "    return lower_idx, upper_idx"
   ]
  },
  {
   "cell_type": "code",
   "execution_count": 87,
   "metadata": {},
   "outputs": [
    {
     "data": {
      "text/plain": [
       "array([ True,  True,  True,  True,  True,  True,  True,  True,  True])"
      ]
     },
     "execution_count": 87,
     "metadata": {},
     "output_type": "execute_result"
    }
   ],
   "source": [
    "dists = np.array([[[i**2 + j ** 2 + k**2 for i in range(max_d+1)] for j in range(max_d+1)] for k in range(max_d+1)])\n",
    "dsquare = np.sort(np.unique(dists[dists <= max_d ** 2]))\n",
    "\n",
    "\n",
    "r = np.zeros(dsquare.shape[0])\n",
    "c = np.zeros(max_d)\n",
    "\n",
    "for d in range(max_d):\n",
    "  c[d] = np.where(dists == d)[0].shape[0]\n",
    "c = c.astype('int')\n",
    "\n",
    "mask = np.zeros((n,n))\n",
    "\n",
    "dist_map = distmap(max_d, dsquare, dists.shape)\n",
    "valid_dists = np.where(dists != -1) # Relevant indicies\n",
    "\n",
    "mask = np.zeros((n,n,n))\n",
    "mask[ids] = 1 \n",
    "tmp = np.zeros((2*n+1,2*n+1,2*n+1))\n",
    "tmp[:n,:n,:n] = mask \n",
    "tmp_fft = np.fft.fftn(tmp)\n",
    "c1 = np.fft.ifftn(tmp_fft*np.conj(tmp_fft))\n",
    "c1 = c1[:max_d+1,:max_d+1,:max_d+1]\n",
    "c1 = np.round(c.real).astype('int')\n",
    "\n",
    "c1 == c"
   ]
  },
  {
   "cell_type": "code",
   "execution_count": 169,
   "metadata": {},
   "outputs": [],
   "source": [
    "patch_fft = jnp.zeros((2*n+1,2*n+1,2*n+1),dtype=jnp.complex64)\n",
    "patch_fft.at[ids].set(patch[ids])\n",
    "patch_fft = jnp.fft.fftn(patch_fft)\n",
    "ACF = jnp.fft.ifftn(patch_fft * jnp.conj(patch_fft))"
   ]
  },
  {
   "cell_type": "code",
   "execution_count": 79,
   "metadata": {},
   "outputs": [
    {
     "data": {
      "text/plain": [
       "Array(1, dtype=int32)"
      ]
     },
     "execution_count": 79,
     "metadata": {},
     "output_type": "execute_result"
    }
   ],
   "source": [
    "x = jnp.array([2,3,5])\n",
    "jnp.searchsorted(x,3)"
   ]
  },
  {
   "cell_type": "code",
   "execution_count": 98,
   "metadata": {},
   "outputs": [],
   "source": [
    "dist_map = distmap(max_d, dsquare, dists.shape)\n",
    "x = jnp.searchsorted(dsquare,dists) - 1 "
   ]
  },
  {
   "cell_type": "code",
   "execution_count": 154,
   "metadata": {},
   "outputs": [],
   "source": [
    "x = jnp.zeros(dists.shape)\n",
    "for i in range(max_d + 1):\n",
    "    for j in range(max_d + 1):\n",
    "        d = i ** 2 + j ** 2\n",
    "        if d <= max_d ** 2:\n",
    "            idx = jnp.searchsorted(dsquare, d)\n",
    "            x = x.at[i,j].set(idx)"
   ]
  },
  {
   "cell_type": "code",
   "execution_count": 166,
   "metadata": {},
   "outputs": [],
   "source": [
    "@jax.jit\n",
    "def turn_ACF_isotropic(ACF,dist_map,valid_dists,num_dists,dists_counts):\n",
    "    r = jnp.zeros(num_dists)\n",
    "    corrs_count = jnp.zeros(num_dists)\n",
    "    for d in zip(*valid_dists):\n",
    "        id = dist_map[d]\n",
    "        r[id] += ACF[d]\n",
    "        corrs_count[id] += dists_counts[d]\n",
    "    idx = jnp.where(corrs_count != 0)[0]\n",
    "    r.at[idx].set(r[idx] / corrs_count[idx])\n",
    "    return r,corrs_count[idx]"
   ]
  },
  {
   "cell_type": "code",
   "execution_count": 170,
   "metadata": {},
   "outputs": [
    {
     "ename": "TypeError",
     "evalue": "Shapes must be 1D sequences of concrete values of integer type, got (Traced<ShapedArray(int32[], weak_type=True)>with<DynamicJaxprTrace(level=1/0)>,).\nIf using `jit`, try using `static_argnums` or applying `jit` to smaller subfunctions.\nThe error occurred while tracing the function turn_ACF_isotropic at /tmp/ipykernel_2006437/2698531278.py:1 for jit. This concrete value was not available in Python because it depends on the value of the argument num_dists.",
     "output_type": "error",
     "traceback": [
      "\u001b[0;31m---------------------------------------------------------------------------\u001b[0m",
      "\u001b[0;31mTypeError\u001b[0m                                 Traceback (most recent call last)",
      "Cell \u001b[0;32mIn[170], line 1\u001b[0m\n\u001b[0;32m----> 1\u001b[0m r,cnt \u001b[38;5;241m=\u001b[39m \u001b[43mturn_ACF_isotropic\u001b[49m\u001b[43m(\u001b[49m\u001b[43mACF\u001b[49m\u001b[43m,\u001b[49m\u001b[43m \u001b[49m\u001b[43mdist_map\u001b[49m\u001b[43m,\u001b[49m\u001b[43m \u001b[49m\u001b[43mvalid_dists\u001b[49m\u001b[43m,\u001b[49m\u001b[43m \u001b[49m\u001b[43mdists\u001b[49m\u001b[38;5;241;43m.\u001b[39;49m\u001b[43mshape\u001b[49m\u001b[43m[\u001b[49m\u001b[38;5;241;43m0\u001b[39;49m\u001b[43m]\u001b[49m\u001b[43m,\u001b[49m\u001b[43mc\u001b[49m\u001b[43m)\u001b[49m\n",
      "    \u001b[0;31m[... skipping hidden 11 frame]\u001b[0m\n",
      "Cell \u001b[0;32mIn[166], line 3\u001b[0m, in \u001b[0;36mturn_ACF_isotropic\u001b[0;34m(ACF, dist_map, valid_dists, num_dists, dists_counts)\u001b[0m\n\u001b[1;32m      1\u001b[0m \u001b[38;5;129m@jax\u001b[39m\u001b[38;5;241m.\u001b[39mjit\n\u001b[1;32m      2\u001b[0m \u001b[38;5;28;01mdef\u001b[39;00m \u001b[38;5;21mturn_ACF_isotropic\u001b[39m(ACF,dist_map,valid_dists,num_dists,dists_counts):\n\u001b[0;32m----> 3\u001b[0m     r \u001b[38;5;241m=\u001b[39m \u001b[43mjnp\u001b[49m\u001b[38;5;241;43m.\u001b[39;49m\u001b[43mzeros\u001b[49m\u001b[43m(\u001b[49m\u001b[43mnum_dists\u001b[49m\u001b[43m)\u001b[49m\n\u001b[1;32m      4\u001b[0m     corrs_count \u001b[38;5;241m=\u001b[39m jnp\u001b[38;5;241m.\u001b[39mzeros(num_dists)\n\u001b[1;32m      5\u001b[0m     \u001b[38;5;28;01mfor\u001b[39;00m d \u001b[38;5;129;01min\u001b[39;00m \u001b[38;5;28mzip\u001b[39m(\u001b[38;5;241m*\u001b[39mvalid_dists):\n",
      "File \u001b[0;32m~/.conda/envs/moshiko/lib/python3.10/site-packages/jax/_src/numpy/lax_numpy.py:5511\u001b[0m, in \u001b[0;36mzeros\u001b[0;34m(shape, dtype, device)\u001b[0m\n\u001b[1;32m   5509\u001b[0m \u001b[38;5;28;01mif\u001b[39;00m (m \u001b[38;5;241m:=\u001b[39m _check_forgot_shape_tuple(\u001b[38;5;124m\"\u001b[39m\u001b[38;5;124mzeros\u001b[39m\u001b[38;5;124m\"\u001b[39m, shape, dtype)): \u001b[38;5;28;01mraise\u001b[39;00m \u001b[38;5;167;01mTypeError\u001b[39;00m(m)\n\u001b[1;32m   5510\u001b[0m dtypes\u001b[38;5;241m.\u001b[39mcheck_user_dtype_supported(dtype, \u001b[38;5;124m\"\u001b[39m\u001b[38;5;124mzeros\u001b[39m\u001b[38;5;124m\"\u001b[39m)\n\u001b[0;32m-> 5511\u001b[0m shape \u001b[38;5;241m=\u001b[39m \u001b[43mcanonicalize_shape\u001b[49m\u001b[43m(\u001b[49m\u001b[43mshape\u001b[49m\u001b[43m)\u001b[49m\n\u001b[1;32m   5512\u001b[0m \u001b[38;5;28;01mreturn\u001b[39;00m lax\u001b[38;5;241m.\u001b[39mfull(shape, \u001b[38;5;241m0\u001b[39m, _jnp_dtype(dtype), sharding\u001b[38;5;241m=\u001b[39m_normalize_to_sharding(device))\n",
      "File \u001b[0;32m~/.conda/envs/moshiko/lib/python3.10/site-packages/jax/_src/numpy/lax_numpy.py:96\u001b[0m, in \u001b[0;36mcanonicalize_shape\u001b[0;34m(shape, context)\u001b[0m\n\u001b[1;32m     93\u001b[0m \u001b[38;5;28;01mdef\u001b[39;00m \u001b[38;5;21mcanonicalize_shape\u001b[39m(shape: Any, context: \u001b[38;5;28mstr\u001b[39m\u001b[38;5;241m=\u001b[39m\u001b[38;5;124m\"\u001b[39m\u001b[38;5;124m\"\u001b[39m) \u001b[38;5;241m-\u001b[39m\u001b[38;5;241m>\u001b[39m core\u001b[38;5;241m.\u001b[39mShape:\n\u001b[1;32m     94\u001b[0m   \u001b[38;5;28;01mif\u001b[39;00m (\u001b[38;5;129;01mnot\u001b[39;00m \u001b[38;5;28misinstance\u001b[39m(shape, (\u001b[38;5;28mtuple\u001b[39m, \u001b[38;5;28mlist\u001b[39m)) \u001b[38;5;129;01mand\u001b[39;00m\n\u001b[1;32m     95\u001b[0m       (\u001b[38;5;28mgetattr\u001b[39m(shape, \u001b[38;5;124m'\u001b[39m\u001b[38;5;124mndim\u001b[39m\u001b[38;5;124m'\u001b[39m, \u001b[38;5;28;01mNone\u001b[39;00m) \u001b[38;5;241m==\u001b[39m \u001b[38;5;241m0\u001b[39m \u001b[38;5;129;01mor\u001b[39;00m ndim(shape) \u001b[38;5;241m==\u001b[39m \u001b[38;5;241m0\u001b[39m)):\n\u001b[0;32m---> 96\u001b[0m     \u001b[38;5;28;01mreturn\u001b[39;00m \u001b[43mcore\u001b[49m\u001b[38;5;241;43m.\u001b[39;49m\u001b[43mcanonicalize_shape\u001b[49m\u001b[43m(\u001b[49m\u001b[43m(\u001b[49m\u001b[43mshape\u001b[49m\u001b[43m,\u001b[49m\u001b[43m)\u001b[49m\u001b[43m,\u001b[49m\u001b[43m \u001b[49m\u001b[43mcontext\u001b[49m\u001b[43m)\u001b[49m\n\u001b[1;32m     97\u001b[0m   \u001b[38;5;28;01melse\u001b[39;00m:\n\u001b[1;32m     98\u001b[0m     \u001b[38;5;28;01mreturn\u001b[39;00m core\u001b[38;5;241m.\u001b[39mcanonicalize_shape(shape, context)\n",
      "File \u001b[0;32m~/.conda/envs/moshiko/lib/python3.10/site-packages/jax/_src/core.py:1716\u001b[0m, in \u001b[0;36mcanonicalize_shape\u001b[0;34m(shape, context)\u001b[0m\n\u001b[1;32m   1714\u001b[0m \u001b[38;5;28;01mexcept\u001b[39;00m \u001b[38;5;167;01mTypeError\u001b[39;00m:\n\u001b[1;32m   1715\u001b[0m   \u001b[38;5;28;01mpass\u001b[39;00m\n\u001b[0;32m-> 1716\u001b[0m \u001b[38;5;28;01mraise\u001b[39;00m _invalid_shape_error(shape, context)\n",
      "\u001b[0;31mTypeError\u001b[0m: Shapes must be 1D sequences of concrete values of integer type, got (Traced<ShapedArray(int32[], weak_type=True)>with<DynamicJaxprTrace(level=1/0)>,).\nIf using `jit`, try using `static_argnums` or applying `jit` to smaller subfunctions.\nThe error occurred while tracing the function turn_ACF_isotropic at /tmp/ipykernel_2006437/2698531278.py:1 for jit. This concrete value was not available in Python because it depends on the value of the argument num_dists."
     ]
    }
   ],
   "source": [
    "r,cnt = turn_ACF_isotropic(ACF, dist_map, valid_dists, dists.shape[0],c)"
   ]
  },
  {
   "cell_type": "code",
   "execution_count": 175,
   "metadata": {},
   "outputs": [
    {
     "name": "stderr",
     "output_type": "stream",
     "text": [
      "/scratch/home/moshemaymon/.conda/envs/moshiko/lib/python3.10/site-packages/jax/_src/ops/scatter.py:92: FutureWarning: scatter inputs have incompatible types: cannot safely cast value from dtype=complex64 to dtype=float32 with jax_numpy_dtype_promotion='standard'. In future JAX releases this will result in an error.\n",
      "  warnings.warn(\n",
      "/scratch/home/moshemaymon/.conda/envs/moshiko/lib/python3.10/site-packages/jax/_src/ops/scatter.py:134: ComplexWarning: Casting complex values to real discards the imaginary part\n",
      "  return lax_internal._convert_element_type(out, dtype, weak_type)\n"
     ]
    },
    {
     "ename": "IndexError",
     "evalue": "index 14 is out of bounds for axis 0 with size 9",
     "output_type": "error",
     "traceback": [
      "\u001b[0;31m---------------------------------------------------------------------------\u001b[0m",
      "\u001b[0;31mIndexError\u001b[0m                                Traceback (most recent call last)",
      "Cell \u001b[0;32mIn[175], line 6\u001b[0m\n\u001b[1;32m      4\u001b[0m     \u001b[38;5;28mid\u001b[39m \u001b[38;5;241m=\u001b[39m dist_map[d]\n\u001b[1;32m      5\u001b[0m     r\u001b[38;5;241m.\u001b[39mat[\u001b[38;5;28mid\u001b[39m]\u001b[38;5;241m.\u001b[39madd(ACF[d])\n\u001b[0;32m----> 6\u001b[0m     corrs_count\u001b[38;5;241m.\u001b[39mat[\u001b[38;5;28mid\u001b[39m]\u001b[38;5;241m.\u001b[39madd(\u001b[43mc\u001b[49m\u001b[43m[\u001b[49m\u001b[38;5;28;43mid\u001b[39;49m\u001b[43m]\u001b[49m)\n\u001b[1;32m      7\u001b[0m idx \u001b[38;5;241m=\u001b[39m jnp\u001b[38;5;241m.\u001b[39mwhere(corrs_count \u001b[38;5;241m!=\u001b[39m \u001b[38;5;241m0\u001b[39m)[\u001b[38;5;241m0\u001b[39m]\n",
      "\u001b[0;31mIndexError\u001b[0m: index 14 is out of bounds for axis 0 with size 9"
     ]
    }
   ],
   "source": [
    "r = jnp.zeros(dsquare.shape)\n",
    "corrs_count = jnp.zeros(dsquare.shape)\n",
    "for d in zip(*valid_dists):\n",
    "    id = dist_map[d]\n",
    "    r.at[id].add(ACF[d])\n",
    "    corrs_count.at[id].add(c[id])\n",
    "idx = jnp.where(corrs_count != 0)[0]"
   ]
  },
  {
   "cell_type": "code",
   "execution_count": null,
   "metadata": {},
   "outputs": [],
   "source": []
  }
 ],
 "metadata": {
  "kernelspec": {
   "display_name": "base",
   "language": "python",
   "name": "python3"
  },
  "language_info": {
   "codemirror_mode": {
    "name": "ipython",
    "version": 3
   },
   "file_extension": ".py",
   "mimetype": "text/x-python",
   "name": "python",
   "nbconvert_exporter": "python",
   "pygments_lexer": "ipython3",
   "version": "3.12.4"
  }
 },
 "nbformat": 4,
 "nbformat_minor": 2
}
